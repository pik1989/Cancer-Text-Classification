{
 "cells": [
  {
   "cell_type": "code",
   "execution_count": 1,
   "id": "177a0d53",
   "metadata": {},
   "outputs": [],
   "source": [
    "# Import Libraries\n",
    "import pandas as pd\n",
    "import numpy as np"
   ]
  },
  {
   "cell_type": "markdown",
   "id": "dc74e0ec",
   "metadata": {},
   "source": [
    "Data Source: https://www.kaggle.com/datasets/falgunipatel19/biomedical-text-publication-classification"
   ]
  },
  {
   "cell_type": "code",
   "execution_count": 2,
   "id": "f7319c40",
   "metadata": {},
   "outputs": [],
   "source": [
    "# Read datasets\n",
    "data_df = pd.read_csv('data.csv', encoding=\"latin-1\")"
   ]
  },
  {
   "cell_type": "code",
   "execution_count": 3,
   "id": "6588678d",
   "metadata": {},
   "outputs": [],
   "source": [
    "data_df.columns = [\"Index\", \"Disease\", \"Text\"]"
   ]
  },
  {
   "cell_type": "code",
   "execution_count": 4,
   "id": "48204702",
   "metadata": {},
   "outputs": [
    {
     "name": "stdout",
     "output_type": "stream",
     "text": [
      "<class 'pandas.core.frame.DataFrame'>\n",
      "RangeIndex: 7570 entries, 0 to 7569\n",
      "Data columns (total 3 columns):\n",
      " #   Column   Non-Null Count  Dtype \n",
      "---  ------   --------------  ----- \n",
      " 0   Index    7570 non-null   int64 \n",
      " 1   Disease  7570 non-null   object\n",
      " 2   Text     7570 non-null   object\n",
      "dtypes: int64(1), object(2)\n",
      "memory usage: 177.5+ KB\n"
     ]
    }
   ],
   "source": [
    "data_df.info()"
   ]
  },
  {
   "cell_type": "code",
   "execution_count": 5,
   "id": "1ab75155",
   "metadata": {},
   "outputs": [],
   "source": [
    "# Filter the dataset based on specific columns\n",
    "filtered_df = data_df[[\"Disease\", \"Text\"]]"
   ]
  },
  {
   "cell_type": "code",
   "execution_count": 6,
   "id": "f3aa86f7",
   "metadata": {},
   "outputs": [
    {
     "name": "stdout",
     "output_type": "stream",
     "text": [
      "<class 'pandas.core.frame.DataFrame'>\n",
      "RangeIndex: 7570 entries, 0 to 7569\n",
      "Data columns (total 2 columns):\n",
      " #   Column   Non-Null Count  Dtype \n",
      "---  ------   --------------  ----- \n",
      " 0   Disease  7570 non-null   object\n",
      " 1   Text     7570 non-null   object\n",
      "dtypes: object(2)\n",
      "memory usage: 118.4+ KB\n"
     ]
    }
   ],
   "source": [
    "filtered_df.info()"
   ]
  },
  {
   "cell_type": "code",
   "execution_count": 7,
   "id": "5f800506",
   "metadata": {},
   "outputs": [],
   "source": [
    "df = filtered_df.copy()"
   ]
  },
  {
   "cell_type": "code",
   "execution_count": 8,
   "id": "8554bc01",
   "metadata": {},
   "outputs": [
    {
     "data": {
      "text/html": [
       "<div>\n",
       "<style scoped>\n",
       "    .dataframe tbody tr th:only-of-type {\n",
       "        vertical-align: middle;\n",
       "    }\n",
       "\n",
       "    .dataframe tbody tr th {\n",
       "        vertical-align: top;\n",
       "    }\n",
       "\n",
       "    .dataframe thead th {\n",
       "        text-align: right;\n",
       "    }\n",
       "</style>\n",
       "<table border=\"1\" class=\"dataframe\">\n",
       "  <thead>\n",
       "    <tr style=\"text-align: right;\">\n",
       "      <th></th>\n",
       "      <th>Disease</th>\n",
       "      <th>Text</th>\n",
       "    </tr>\n",
       "  </thead>\n",
       "  <tbody>\n",
       "    <tr>\n",
       "      <th>0</th>\n",
       "      <td>Thyroid_Cancer</td>\n",
       "      <td>Thyroid surgery in  children in a single insti...</td>\n",
       "    </tr>\n",
       "    <tr>\n",
       "      <th>1</th>\n",
       "      <td>Thyroid_Cancer</td>\n",
       "      <td>\" The adopted strategy was the same as that us...</td>\n",
       "    </tr>\n",
       "    <tr>\n",
       "      <th>2</th>\n",
       "      <td>Thyroid_Cancer</td>\n",
       "      <td>coronary arterybypass grafting thrombosis ï¬b...</td>\n",
       "    </tr>\n",
       "    <tr>\n",
       "      <th>3</th>\n",
       "      <td>Thyroid_Cancer</td>\n",
       "      <td>Solitary plasmacytoma SP of the skull is an u...</td>\n",
       "    </tr>\n",
       "    <tr>\n",
       "      <th>4</th>\n",
       "      <td>Thyroid_Cancer</td>\n",
       "      <td>This study aimed to investigate serum matrix ...</td>\n",
       "    </tr>\n",
       "    <tr>\n",
       "      <th>...</th>\n",
       "      <td>...</td>\n",
       "      <td>...</td>\n",
       "    </tr>\n",
       "    <tr>\n",
       "      <th>7565</th>\n",
       "      <td>Colon_Cancer</td>\n",
       "      <td>we report the case of a 24yearold man who pres...</td>\n",
       "    </tr>\n",
       "    <tr>\n",
       "      <th>7566</th>\n",
       "      <td>Colon_Cancer</td>\n",
       "      <td>among synchronous colorectal cancers scrcs rep...</td>\n",
       "    </tr>\n",
       "    <tr>\n",
       "      <th>7567</th>\n",
       "      <td>Colon_Cancer</td>\n",
       "      <td>the heterogeneity of cancer cells is generally...</td>\n",
       "    </tr>\n",
       "    <tr>\n",
       "      <th>7568</th>\n",
       "      <td>Colon_Cancer</td>\n",
       "      <td>\"adipogenesis is the process through which mes...</td>\n",
       "    </tr>\n",
       "    <tr>\n",
       "      <th>7569</th>\n",
       "      <td>Colon_Cancer</td>\n",
       "      <td>the periparturient period is one of the most c...</td>\n",
       "    </tr>\n",
       "  </tbody>\n",
       "</table>\n",
       "<p>7570 rows × 2 columns</p>\n",
       "</div>"
      ],
      "text/plain": [
       "             Disease                                               Text\n",
       "0     Thyroid_Cancer  Thyroid surgery in  children in a single insti...\n",
       "1     Thyroid_Cancer  \" The adopted strategy was the same as that us...\n",
       "2     Thyroid_Cancer  coronary arterybypass grafting thrombosis ï¬b...\n",
       "3     Thyroid_Cancer   Solitary plasmacytoma SP of the skull is an u...\n",
       "4     Thyroid_Cancer   This study aimed to investigate serum matrix ...\n",
       "...              ...                                                ...\n",
       "7565    Colon_Cancer  we report the case of a 24yearold man who pres...\n",
       "7566    Colon_Cancer  among synchronous colorectal cancers scrcs rep...\n",
       "7567    Colon_Cancer  the heterogeneity of cancer cells is generally...\n",
       "7568    Colon_Cancer  \"adipogenesis is the process through which mes...\n",
       "7569    Colon_Cancer  the periparturient period is one of the most c...\n",
       "\n",
       "[7570 rows x 2 columns]"
      ]
     },
     "execution_count": 8,
     "metadata": {},
     "output_type": "execute_result"
    }
   ],
   "source": [
    "df"
   ]
  },
  {
   "cell_type": "code",
   "execution_count": 9,
   "id": "5377c05f",
   "metadata": {},
   "outputs": [
    {
     "data": {
      "text/plain": [
       "Thyroid_Cancer    2810\n",
       "Colon_Cancer      2580\n",
       "Lung_Cancer       2180\n",
       "Name: Disease, dtype: int64"
      ]
     },
     "execution_count": 9,
     "metadata": {},
     "output_type": "execute_result"
    }
   ],
   "source": [
    "df[\"Disease\"].value_counts()"
   ]
  },
  {
   "cell_type": "code",
   "execution_count": 10,
   "id": "dea71961",
   "metadata": {},
   "outputs": [],
   "source": [
    "from sklearn.model_selection import train_test_split\n",
    "import pandas as pd\n",
    "\n",
    "# Load your dataset into a pandas dataframe called df\n",
    "df = df\n",
    "\n",
    "# Shuffle the dataset\n",
    "df = df.sample(frac=1).reset_index(drop=True)\n",
    "\n",
    "# Split the dataset into train and test sets\n",
    "modal_df, val_df = train_test_split(df, test_size=0.1)"
   ]
  },
  {
   "cell_type": "code",
   "execution_count": null,
   "id": "7868be94",
   "metadata": {},
   "outputs": [],
   "source": [
    "# Importing the required libraries\n",
    "import pandas as pd\n",
    "import numpy as np\n",
    "import tensorflow as tf\n",
    "from sklearn.model_selection import train_test_split\n",
    "from sklearn.preprocessing import LabelEncoder\n",
    "from sklearn.utils.class_weight import compute_class_weight\n",
    "from transformers import BertTokenizer, TFBertModel\n",
    "from tensorflow.keras.layers import Dense, Input, GlobalAveragePooling1D\n",
    "from tensorflow.keras.models import Model\n",
    "\n",
    "\n",
    "# Reading the data into a pandas dataframe\n",
    "df = modal_df\n",
    "\n",
    "# Splitting the data into train and test sets\n",
    "train_data, test_data = train_test_split(df, test_size=0.2, random_state=42)\n",
    "\n",
    "# Initializing the BERT tokenizer\n",
    "tokenizer = BertTokenizer.from_pretrained('bert-base-uncased')\n",
    "\n",
    "# Tokenizing the text and converting it to sequences\n",
    "# train_sequences = [tokenizer.encode(text, add_special_tokens=True, max_length=512) for text in train_data['transcription'].values]\n",
    "# test_sequences = [tokenizer.encode(text, add_special_tokens=True, max_length=512) for text in test_data['transcription'].values]\n",
    "train_sequences = [tokenizer.encode(text, add_special_tokens=True, max_length=512, truncation=True) for text in train_data['Text'].values]\n",
    "test_sequences = [tokenizer.encode(text, add_special_tokens=True, max_length=512, truncation=True) for text in test_data['Text'].values]\n",
    "\n",
    "# Padding the sequences to ensure uniform length\n",
    "train_padded = tf.keras.preprocessing.sequence.pad_sequences(train_sequences, maxlen=512, padding='post', truncating='post')\n",
    "test_padded = tf.keras.preprocessing.sequence.pad_sequences(test_sequences, maxlen=512, padding='post', truncating='post')\n",
    "\n",
    "# Encoding the target variable\n",
    "encoder = LabelEncoder()\n",
    "encoder.fit(train_data['Disease'].values)\n",
    "train_labels = encoder.transform(train_data['Disease'].values)\n",
    "test_labels = encoder.transform(test_data['Disease'].values)\n",
    "\n",
    "# Computing the class weights to handle imbalanced data\n",
    "class_weights = compute_class_weight('balanced', np.unique(train_labels), train_labels)\n",
    "class_weight_dict = dict(enumerate(class_weights))\n",
    "\n",
    "# Loading the pre-trained BERT model\n",
    "bert_model = TFBertModel.from_pretrained('bert-base-uncased')\n",
    "\n",
    "# Adding a classification layer on top of the BERT model\n",
    "input_layer = Input(shape=(512,), dtype=tf.int32)\n",
    "bert_output = bert_model(input_layer)[1]\n",
    "output_layer = Dense(len(set(df['Disease'])), activation='softmax')(bert_output)\n",
    "model = Model(inputs=input_layer, outputs=output_layer)\n",
    "\n",
    "# Freezing the BERT layers to fine-tune only the classification layer\n",
    "for layer in bert_model.layers:\n",
    "    layer.trainable = False\n",
    "\n",
    "# Early stopping callback to prevent overfitting\n",
    "early_stopping = tf.keras.callbacks.EarlyStopping(monitor='val_loss', patience=3, verbose=1, mode='auto')\n",
    "\n",
    "# Compiling the model\n",
    "model.compile(loss='sparse_categorical_crossentropy', optimizer=tf.keras.optimizers.Adam(lr=2e-5), metrics=['accuracy'])\n",
    "\n",
    "# Training the model\n",
    "history = model.fit(train_padded, train_labels, epochs=1, batch_size=64, validation_data=(test_padded, test_labels), class_weight=class_weight_dict, callbacks=[early_stopping])\n",
    "\n",
    "# Evaluating the model on the test set\n",
    "score, acc = model.evaluate(test_padded, test_labels, batch_size=64)\n",
    "print('Test accuracy:', acc)\n",
    "\n",
    "# Saving the model\n",
    "model.save('Cancer_Text Documents_Classification_Transformer.h5')"
   ]
  },
  {
   "cell_type": "code",
   "execution_count": 19,
   "id": "5b38d768",
   "metadata": {},
   "outputs": [
    {
     "data": {
      "text/html": [
       "<div>\n",
       "<style scoped>\n",
       "    .dataframe tbody tr th:only-of-type {\n",
       "        vertical-align: middle;\n",
       "    }\n",
       "\n",
       "    .dataframe tbody tr th {\n",
       "        vertical-align: top;\n",
       "    }\n",
       "\n",
       "    .dataframe thead th {\n",
       "        text-align: right;\n",
       "    }\n",
       "</style>\n",
       "<table border=\"1\" class=\"dataframe\">\n",
       "  <thead>\n",
       "    <tr style=\"text-align: right;\">\n",
       "      <th></th>\n",
       "      <th>Disease</th>\n",
       "      <th>Text</th>\n",
       "    </tr>\n",
       "  </thead>\n",
       "  <tbody>\n",
       "    <tr>\n",
       "      <th>2698</th>\n",
       "      <td>Lung_Cancer</td>\n",
       "      <td>\"Discussion This study supports the feasibilit...</td>\n",
       "    </tr>\n",
       "    <tr>\n",
       "      <th>4748</th>\n",
       "      <td>Thyroid_Cancer</td>\n",
       "      <td>\"The coronavirus disease  COVID19 is now a wor...</td>\n",
       "    </tr>\n",
       "    <tr>\n",
       "      <th>1271</th>\n",
       "      <td>Thyroid_Cancer</td>\n",
       "      <td>\"unrestricted use distribution and reproductio...</td>\n",
       "    </tr>\n",
       "    <tr>\n",
       "      <th>4255</th>\n",
       "      <td>Colon_Cancer</td>\n",
       "      <td>neutrophils account for  of circulating leuko...</td>\n",
       "    </tr>\n",
       "    <tr>\n",
       "      <th>6452</th>\n",
       "      <td>Thyroid_Cancer</td>\n",
       "      <td>CD146 was originally identiï¬ed as a melanoma...</td>\n",
       "    </tr>\n",
       "    <tr>\n",
       "      <th>...</th>\n",
       "      <td>...</td>\n",
       "      <td>...</td>\n",
       "    </tr>\n",
       "    <tr>\n",
       "      <th>1876</th>\n",
       "      <td>Thyroid_Cancer</td>\n",
       "      <td>Pathwayspecific model estimation for improve...</td>\n",
       "    </tr>\n",
       "    <tr>\n",
       "      <th>1497</th>\n",
       "      <td>Thyroid_Cancer</td>\n",
       "      <td>properly citedIntroduction Endogenously produc...</td>\n",
       "    </tr>\n",
       "    <tr>\n",
       "      <th>4628</th>\n",
       "      <td>Thyroid_Cancer</td>\n",
       "      <td>\"Ovine pulmonary adenocarcinoma OPA is a neopl...</td>\n",
       "    </tr>\n",
       "    <tr>\n",
       "      <th>681</th>\n",
       "      <td>Thyroid_Cancer</td>\n",
       "      <td>\"Optimizing Telemedicine Encounters for Oral a...</td>\n",
       "    </tr>\n",
       "    <tr>\n",
       "      <th>6295</th>\n",
       "      <td>Thyroid_Cancer</td>\n",
       "      <td>\"Accumulating evidence has revealed the critic...</td>\n",
       "    </tr>\n",
       "  </tbody>\n",
       "</table>\n",
       "<p>682 rows × 2 columns</p>\n",
       "</div>"
      ],
      "text/plain": [
       "             Disease                                               Text\n",
       "2698     Lung_Cancer  \"Discussion This study supports the feasibilit...\n",
       "4748  Thyroid_Cancer  \"The coronavirus disease  COVID19 is now a wor...\n",
       "1271  Thyroid_Cancer  \"unrestricted use distribution and reproductio...\n",
       "4255    Colon_Cancer  neutrophils account for  of circulating leuko...\n",
       "6452  Thyroid_Cancer  CD146 was originally identiï¬ed as a melanoma...\n",
       "...              ...                                                ...\n",
       "1876  Thyroid_Cancer   Pathwayspecific model estimation for improve...\n",
       "1497  Thyroid_Cancer  properly citedIntroduction Endogenously produc...\n",
       "4628  Thyroid_Cancer  \"Ovine pulmonary adenocarcinoma OPA is a neopl...\n",
       "681   Thyroid_Cancer  \"Optimizing Telemedicine Encounters for Oral a...\n",
       "6295  Thyroid_Cancer  \"Accumulating evidence has revealed the critic...\n",
       "\n",
       "[682 rows x 2 columns]"
      ]
     },
     "execution_count": 19,
     "metadata": {},
     "output_type": "execute_result"
    }
   ],
   "source": [
    "val_df "
   ]
  },
  {
   "cell_type": "code",
   "execution_count": null,
   "id": "cafab155",
   "metadata": {},
   "outputs": [],
   "source": [
    "from tensorflow.keras.models import load_model\n",
    "\n",
    "# Loading the model\n",
    "model = load_model('Cancer_Text Documents_Classification_Transformer.h5')\n",
    "\n",
    "# Get the content column from the validation dataframe\n",
    "val_input = val_df['Text'].tolist()\n",
    "\n",
    "# Converting validation input to sequence\n",
    "val_seq = tokenizer.texts_to_sequences(val_input)\n",
    "\n",
    "# Padding the sequence\n",
    "val_padded = pad_sequences(val_seq, maxlen=max_length, padding='post', truncating='post')\n",
    "\n",
    "# Predicting the EMISSION_CLASS for validation input\n",
    "pred = model.predict(val_padded)\n",
    "\n",
    "# Decoding the predicted label\n",
    "pred_label = encoder.inverse_transform(np.argmax(pred, axis=-1))\n",
    "\n",
    "# Get the actual labels from the validation dataframe\n",
    "actual_label = val_df['Disease'].tolist()\n",
    "\n",
    "# Calculate accuracy\n",
    "accuracy = sum([1 if pred_label[i] == actual_label[i] else 0 for i in range(len(pred_label))]) / len(pred_label)\n",
    "\n",
    "# Print the predicted and actual labels for the first 10 samples\n",
    "for i in range(10):\n",
    "    print(f\"Predicted: {pred_label[i]}, Actual: {actual_label[i]}\")\n",
    "\n",
    "# Print the accuracy\n",
    "print(f\"Accuracy: {accuracy}\")"
   ]
  }
 ],
 "metadata": {
  "kernelspec": {
   "display_name": "Python 3",
   "language": "python",
   "name": "python3"
  },
  "language_info": {
   "codemirror_mode": {
    "name": "ipython",
    "version": 3
   },
   "file_extension": ".py",
   "mimetype": "text/x-python",
   "name": "python",
   "nbconvert_exporter": "python",
   "pygments_lexer": "ipython3",
   "version": "3.8.5"
  }
 },
 "nbformat": 4,
 "nbformat_minor": 5
}
