{
 "cells": [
  {
   "cell_type": "code",
   "execution_count": 1,
   "id": "951b3454",
   "metadata": {},
   "outputs": [],
   "source": [
    "# Import Libraries\n",
    "import pandas as pd\n",
    "import numpy as np"
   ]
  },
  {
   "cell_type": "markdown",
   "id": "b4542902",
   "metadata": {},
   "source": [
    "Data Source: https://www.kaggle.com/datasets/falgunipatel19/biomedical-text-publication-classification"
   ]
  },
  {
   "cell_type": "code",
   "execution_count": 4,
   "id": "d965909a",
   "metadata": {},
   "outputs": [],
   "source": [
    "# Read datasets\n",
    "data_df = pd.read_csv('data.csv', encoding=\"latin-1\")"
   ]
  },
  {
   "cell_type": "code",
   "execution_count": 6,
   "id": "a9977fce",
   "metadata": {},
   "outputs": [],
   "source": [
    "data_df.columns = [\"Index\", \"Disease\", \"Text\"]"
   ]
  },
  {
   "cell_type": "code",
   "execution_count": 7,
   "id": "e32d2f65",
   "metadata": {},
   "outputs": [
    {
     "name": "stdout",
     "output_type": "stream",
     "text": [
      "<class 'pandas.core.frame.DataFrame'>\n",
      "RangeIndex: 7570 entries, 0 to 7569\n",
      "Data columns (total 3 columns):\n",
      " #   Column   Non-Null Count  Dtype \n",
      "---  ------   --------------  ----- \n",
      " 0   Index    7570 non-null   int64 \n",
      " 1   Disease  7570 non-null   object\n",
      " 2   Text     7570 non-null   object\n",
      "dtypes: int64(1), object(2)\n",
      "memory usage: 177.5+ KB\n"
     ]
    }
   ],
   "source": [
    "data_df.info()"
   ]
  },
  {
   "cell_type": "code",
   "execution_count": 8,
   "id": "73ebc585",
   "metadata": {},
   "outputs": [],
   "source": [
    "# Filter the dataset based on specific columns\n",
    "filtered_df = data_df[[\"Disease\", \"Text\"]]"
   ]
  },
  {
   "cell_type": "code",
   "execution_count": 9,
   "id": "534e5786",
   "metadata": {},
   "outputs": [
    {
     "name": "stdout",
     "output_type": "stream",
     "text": [
      "<class 'pandas.core.frame.DataFrame'>\n",
      "RangeIndex: 7570 entries, 0 to 7569\n",
      "Data columns (total 2 columns):\n",
      " #   Column   Non-Null Count  Dtype \n",
      "---  ------   --------------  ----- \n",
      " 0   Disease  7570 non-null   object\n",
      " 1   Text     7570 non-null   object\n",
      "dtypes: object(2)\n",
      "memory usage: 118.4+ KB\n"
     ]
    }
   ],
   "source": [
    "filtered_df.info()"
   ]
  },
  {
   "cell_type": "code",
   "execution_count": 10,
   "id": "e42210d5",
   "metadata": {},
   "outputs": [],
   "source": [
    "df = filtered_df.copy()"
   ]
  },
  {
   "cell_type": "code",
   "execution_count": 12,
   "id": "3bdccd94",
   "metadata": {},
   "outputs": [
    {
     "data": {
      "text/html": [
       "<div>\n",
       "<style scoped>\n",
       "    .dataframe tbody tr th:only-of-type {\n",
       "        vertical-align: middle;\n",
       "    }\n",
       "\n",
       "    .dataframe tbody tr th {\n",
       "        vertical-align: top;\n",
       "    }\n",
       "\n",
       "    .dataframe thead th {\n",
       "        text-align: right;\n",
       "    }\n",
       "</style>\n",
       "<table border=\"1\" class=\"dataframe\">\n",
       "  <thead>\n",
       "    <tr style=\"text-align: right;\">\n",
       "      <th></th>\n",
       "      <th>Disease</th>\n",
       "      <th>Text</th>\n",
       "    </tr>\n",
       "  </thead>\n",
       "  <tbody>\n",
       "    <tr>\n",
       "      <th>0</th>\n",
       "      <td>Thyroid_Cancer</td>\n",
       "      <td>Thyroid surgery in  children in a single insti...</td>\n",
       "    </tr>\n",
       "    <tr>\n",
       "      <th>1</th>\n",
       "      <td>Thyroid_Cancer</td>\n",
       "      <td>\" The adopted strategy was the same as that us...</td>\n",
       "    </tr>\n",
       "    <tr>\n",
       "      <th>2</th>\n",
       "      <td>Thyroid_Cancer</td>\n",
       "      <td>coronary arterybypass grafting thrombosis ï¬b...</td>\n",
       "    </tr>\n",
       "    <tr>\n",
       "      <th>3</th>\n",
       "      <td>Thyroid_Cancer</td>\n",
       "      <td>Solitary plasmacytoma SP of the skull is an u...</td>\n",
       "    </tr>\n",
       "    <tr>\n",
       "      <th>4</th>\n",
       "      <td>Thyroid_Cancer</td>\n",
       "      <td>This study aimed to investigate serum matrix ...</td>\n",
       "    </tr>\n",
       "    <tr>\n",
       "      <th>...</th>\n",
       "      <td>...</td>\n",
       "      <td>...</td>\n",
       "    </tr>\n",
       "    <tr>\n",
       "      <th>7565</th>\n",
       "      <td>Colon_Cancer</td>\n",
       "      <td>we report the case of a 24yearold man who pres...</td>\n",
       "    </tr>\n",
       "    <tr>\n",
       "      <th>7566</th>\n",
       "      <td>Colon_Cancer</td>\n",
       "      <td>among synchronous colorectal cancers scrcs rep...</td>\n",
       "    </tr>\n",
       "    <tr>\n",
       "      <th>7567</th>\n",
       "      <td>Colon_Cancer</td>\n",
       "      <td>the heterogeneity of cancer cells is generally...</td>\n",
       "    </tr>\n",
       "    <tr>\n",
       "      <th>7568</th>\n",
       "      <td>Colon_Cancer</td>\n",
       "      <td>\"adipogenesis is the process through which mes...</td>\n",
       "    </tr>\n",
       "    <tr>\n",
       "      <th>7569</th>\n",
       "      <td>Colon_Cancer</td>\n",
       "      <td>the periparturient period is one of the most c...</td>\n",
       "    </tr>\n",
       "  </tbody>\n",
       "</table>\n",
       "<p>7570 rows × 2 columns</p>\n",
       "</div>"
      ],
      "text/plain": [
       "             Disease                                               Text\n",
       "0     Thyroid_Cancer  Thyroid surgery in  children in a single insti...\n",
       "1     Thyroid_Cancer  \" The adopted strategy was the same as that us...\n",
       "2     Thyroid_Cancer  coronary arterybypass grafting thrombosis ï¬b...\n",
       "3     Thyroid_Cancer   Solitary plasmacytoma SP of the skull is an u...\n",
       "4     Thyroid_Cancer   This study aimed to investigate serum matrix ...\n",
       "...              ...                                                ...\n",
       "7565    Colon_Cancer  we report the case of a 24yearold man who pres...\n",
       "7566    Colon_Cancer  among synchronous colorectal cancers scrcs rep...\n",
       "7567    Colon_Cancer  the heterogeneity of cancer cells is generally...\n",
       "7568    Colon_Cancer  \"adipogenesis is the process through which mes...\n",
       "7569    Colon_Cancer  the periparturient period is one of the most c...\n",
       "\n",
       "[7570 rows x 2 columns]"
      ]
     },
     "execution_count": 12,
     "metadata": {},
     "output_type": "execute_result"
    }
   ],
   "source": [
    "df"
   ]
  },
  {
   "cell_type": "code",
   "execution_count": 13,
   "id": "efb506ec",
   "metadata": {},
   "outputs": [
    {
     "data": {
      "text/plain": [
       "Thyroid_Cancer    2810\n",
       "Colon_Cancer      2580\n",
       "Lung_Cancer       2180\n",
       "Name: Disease, dtype: int64"
      ]
     },
     "execution_count": 13,
     "metadata": {},
     "output_type": "execute_result"
    }
   ],
   "source": [
    "df[\"Disease\"].value_counts()"
   ]
  },
  {
   "cell_type": "code",
   "execution_count": 18,
   "id": "b1ed4530",
   "metadata": {},
   "outputs": [],
   "source": [
    "from sklearn.model_selection import train_test_split\n",
    "import pandas as pd\n",
    "\n",
    "# Load your dataset into a pandas dataframe called df\n",
    "df = df\n",
    "\n",
    "# Shuffle the dataset\n",
    "df = df.sample(frac=1).reset_index(drop=True)\n",
    "\n",
    "# Split the dataset into train and test sets\n",
    "modal_df, val_df = train_test_split(df, test_size=0.1)"
   ]
  },
  {
   "cell_type": "code",
   "execution_count": 20,
   "id": "ef4e418b",
   "metadata": {},
   "outputs": [
    {
     "name": "stdout",
     "output_type": "stream",
     "text": [
      "Epoch 1/20\n",
      "77/77 [==============================] - 36s 438ms/step - loss: 0.8065 - accuracy: 0.6597 - val_loss: 0.2660 - val_accuracy: 0.9535\n",
      "Epoch 2/20\n",
      "77/77 [==============================] - 33s 432ms/step - loss: 0.1383 - accuracy: 0.9592 - val_loss: 0.0446 - val_accuracy: 0.9845\n",
      "Epoch 3/20\n",
      "77/77 [==============================] - 37s 481ms/step - loss: 0.0469 - accuracy: 0.9880 - val_loss: 0.0273 - val_accuracy: 0.9935\n",
      "Epoch 4/20\n",
      "77/77 [==============================] - 34s 448ms/step - loss: 0.0350 - accuracy: 0.9888 - val_loss: 0.0196 - val_accuracy: 0.9919\n",
      "Epoch 5/20\n",
      "77/77 [==============================] - 36s 470ms/step - loss: 0.0300 - accuracy: 0.9902 - val_loss: 0.0236 - val_accuracy: 0.9902\n",
      "Epoch 6/20\n",
      "77/77 [==============================] - 35s 461ms/step - loss: 0.0399 - accuracy: 0.9904 - val_loss: 0.0241 - val_accuracy: 0.9910\n",
      "Epoch 7/20\n",
      "77/77 [==============================] - 38s 488ms/step - loss: 0.0247 - accuracy: 0.9918 - val_loss: 0.0190 - val_accuracy: 0.9935\n",
      "Epoch 8/20\n",
      "77/77 [==============================] - 39s 502ms/step - loss: 0.0223 - accuracy: 0.9923 - val_loss: 0.0221 - val_accuracy: 0.9935\n",
      "Epoch 9/20\n",
      "77/77 [==============================] - 38s 489ms/step - loss: 0.0233 - accuracy: 0.9914 - val_loss: 0.0183 - val_accuracy: 0.9935\n",
      "Epoch 10/20\n",
      "77/77 [==============================] - 37s 486ms/step - loss: 0.0242 - accuracy: 0.9927 - val_loss: 0.0122 - val_accuracy: 0.9943\n",
      "Epoch 11/20\n",
      "77/77 [==============================] - 36s 472ms/step - loss: 0.0198 - accuracy: 0.9925 - val_loss: 0.0157 - val_accuracy: 0.9935\n",
      "Epoch 12/20\n",
      "77/77 [==============================] - 36s 471ms/step - loss: 0.0234 - accuracy: 0.9914 - val_loss: 0.0230 - val_accuracy: 0.9935\n",
      "Epoch 13/20\n",
      "77/77 [==============================] - 36s 462ms/step - loss: 0.0174 - accuracy: 0.9931 - val_loss: 0.0230 - val_accuracy: 0.9935\n",
      "Epoch 13: early stopping\n",
      "20/20 [==============================] - 1s 24ms/step - loss: 0.0230 - accuracy: 0.9935\n",
      "Test accuracy: 0.9934800267219543\n"
     ]
    }
   ],
   "source": [
    "# Importing the required libraries\n",
    "import pandas as pd\n",
    "import numpy as np\n",
    "import tensorflow as tf\n",
    "from sklearn.model_selection import train_test_split\n",
    "from sklearn.preprocessing import LabelEncoder\n",
    "from sklearn.utils.class_weight import compute_class_weight\n",
    "from tensorflow.keras.preprocessing.text import Tokenizer\n",
    "from tensorflow.keras.preprocessing.sequence import pad_sequences\n",
    "from tensorflow.keras.layers import Embedding, Dense, Dropout\n",
    "from tensorflow.keras.models import Sequential\n",
    "from tensorflow.keras.callbacks import EarlyStopping\n",
    "from tensorflow.keras.layers import Flatten\n",
    "\n",
    "\n",
    "# Reading the data into a pandas dataframe\n",
    "df = modal_df\n",
    "\n",
    "df['Text'] = df['Text'].astype(str)\n",
    "df['Disease'] = df['Disease'].astype(str)\n",
    "\n",
    "# Splitting the data into train and test sets\n",
    "train_data, test_data = train_test_split(df, test_size=0.2, random_state=42)\n",
    "\n",
    "# Tokenizing the text and converting it to sequences\n",
    "tokenizer = Tokenizer(num_words=5000, oov_token=\"<OOV>\")\n",
    "tokenizer.fit_on_texts(train_data['Text'].values)\n",
    "train_sequences = tokenizer.texts_to_sequences(train_data['Text'].values)\n",
    "test_sequences = tokenizer.texts_to_sequences(test_data['Text'].values)\n",
    "\n",
    "# Padding the sequences to ensure uniform length\n",
    "train_padded = pad_sequences(train_sequences, maxlen=500, padding='post', truncating='post')\n",
    "test_padded = pad_sequences(test_sequences, maxlen=500, padding='post', truncating='post')\n",
    "\n",
    "# Defining the vocabulary size\n",
    "vocab_size = len(tokenizer.word_index) + 1  # Adding 1 for the <PAD> token\n",
    "\n",
    "# Defining the embedding dimension\n",
    "embedding_dim = 100  # You can adjust this value based on your data and model performance\n",
    "\n",
    "# Defining the maximum length of the input sequences\n",
    "max_length = 500  # You can adjust this value based on your data and model performance\n",
    "\n",
    "# Encoding the target variable\n",
    "encoder = LabelEncoder()\n",
    "encoder.fit(train_data['Disease'].values)\n",
    "train_labels = encoder.transform(train_data['Disease'].values)\n",
    "test_labels = encoder.transform(test_data['Disease'].values)\n",
    "\n",
    "# Computing the class weights to handle imbalanced data\n",
    "class_weights = compute_class_weight('balanced', np.unique(train_labels), train_labels)\n",
    "class_weight_dict = dict(enumerate(class_weights))\n",
    "\n",
    "num_classes = len(set(df['Disease']))\n",
    "\n",
    "# Defining the model\n",
    "model = Sequential()\n",
    "model.add(Embedding(vocab_size, embedding_dim, input_length=max_length))\n",
    "model.add(Dense(64, activation='relu'))\n",
    "model.add(Dropout(0.5))\n",
    "model.add(Dense(32, activation='relu'))\n",
    "model.add(Dropout(0.5))\n",
    "model.add(Flatten())\n",
    "model.add(Dense(num_classes, activation='softmax')) # Changed the number of units in the output layer to num_classes\n",
    "\n",
    "# Early stopping callback to prevent overfitting\n",
    "early_stopping = EarlyStopping(monitor='val_loss', patience=3, verbose=1, mode='auto')\n",
    "\n",
    "# Compiling the model\n",
    "model.compile(loss='sparse_categorical_crossentropy', optimizer='adam', metrics=['accuracy'])\n",
    "\n",
    "# Training the model\n",
    "history = model.fit(train_padded, train_labels, epochs=20, batch_size=64, validation_data=(test_padded, test_labels), class_weight=class_weight_dict, callbacks=[early_stopping])\n",
    "\n",
    "# Evaluating the model on the test set\n",
    "score, acc = model.evaluate(test_padded, test_labels, batch_size=64)\n",
    "print('Test accuracy:', acc)\n",
    "\n",
    "# Saving the model\n",
    "model.save('Cancer_Text_Documents_Classification_ANN_your_model.h5')\n"
   ]
  },
  {
   "cell_type": "code",
   "execution_count": 19,
   "id": "08fabd97",
   "metadata": {},
   "outputs": [
    {
     "data": {
      "text/html": [
       "<div>\n",
       "<style scoped>\n",
       "    .dataframe tbody tr th:only-of-type {\n",
       "        vertical-align: middle;\n",
       "    }\n",
       "\n",
       "    .dataframe tbody tr th {\n",
       "        vertical-align: top;\n",
       "    }\n",
       "\n",
       "    .dataframe thead th {\n",
       "        text-align: right;\n",
       "    }\n",
       "</style>\n",
       "<table border=\"1\" class=\"dataframe\">\n",
       "  <thead>\n",
       "    <tr style=\"text-align: right;\">\n",
       "      <th></th>\n",
       "      <th>Disease</th>\n",
       "      <th>Text</th>\n",
       "    </tr>\n",
       "  </thead>\n",
       "  <tbody>\n",
       "    <tr>\n",
       "      <th>2698</th>\n",
       "      <td>Lung_Cancer</td>\n",
       "      <td>\"Discussion This study supports the feasibilit...</td>\n",
       "    </tr>\n",
       "    <tr>\n",
       "      <th>4748</th>\n",
       "      <td>Thyroid_Cancer</td>\n",
       "      <td>\"The coronavirus disease  COVID19 is now a wor...</td>\n",
       "    </tr>\n",
       "    <tr>\n",
       "      <th>1271</th>\n",
       "      <td>Thyroid_Cancer</td>\n",
       "      <td>\"unrestricted use distribution and reproductio...</td>\n",
       "    </tr>\n",
       "    <tr>\n",
       "      <th>4255</th>\n",
       "      <td>Colon_Cancer</td>\n",
       "      <td>neutrophils account for  of circulating leuko...</td>\n",
       "    </tr>\n",
       "    <tr>\n",
       "      <th>6452</th>\n",
       "      <td>Thyroid_Cancer</td>\n",
       "      <td>CD146 was originally identiï¬ed as a melanoma...</td>\n",
       "    </tr>\n",
       "    <tr>\n",
       "      <th>...</th>\n",
       "      <td>...</td>\n",
       "      <td>...</td>\n",
       "    </tr>\n",
       "    <tr>\n",
       "      <th>1876</th>\n",
       "      <td>Thyroid_Cancer</td>\n",
       "      <td>Pathwayspecific model estimation for improve...</td>\n",
       "    </tr>\n",
       "    <tr>\n",
       "      <th>1497</th>\n",
       "      <td>Thyroid_Cancer</td>\n",
       "      <td>properly citedIntroduction Endogenously produc...</td>\n",
       "    </tr>\n",
       "    <tr>\n",
       "      <th>4628</th>\n",
       "      <td>Thyroid_Cancer</td>\n",
       "      <td>\"Ovine pulmonary adenocarcinoma OPA is a neopl...</td>\n",
       "    </tr>\n",
       "    <tr>\n",
       "      <th>681</th>\n",
       "      <td>Thyroid_Cancer</td>\n",
       "      <td>\"Optimizing Telemedicine Encounters for Oral a...</td>\n",
       "    </tr>\n",
       "    <tr>\n",
       "      <th>6295</th>\n",
       "      <td>Thyroid_Cancer</td>\n",
       "      <td>\"Accumulating evidence has revealed the critic...</td>\n",
       "    </tr>\n",
       "  </tbody>\n",
       "</table>\n",
       "<p>682 rows × 2 columns</p>\n",
       "</div>"
      ],
      "text/plain": [
       "             Disease                                               Text\n",
       "2698     Lung_Cancer  \"Discussion This study supports the feasibilit...\n",
       "4748  Thyroid_Cancer  \"The coronavirus disease  COVID19 is now a wor...\n",
       "1271  Thyroid_Cancer  \"unrestricted use distribution and reproductio...\n",
       "4255    Colon_Cancer  neutrophils account for  of circulating leuko...\n",
       "6452  Thyroid_Cancer  CD146 was originally identiï¬ed as a melanoma...\n",
       "...              ...                                                ...\n",
       "1876  Thyroid_Cancer   Pathwayspecific model estimation for improve...\n",
       "1497  Thyroid_Cancer  properly citedIntroduction Endogenously produc...\n",
       "4628  Thyroid_Cancer  \"Ovine pulmonary adenocarcinoma OPA is a neopl...\n",
       "681   Thyroid_Cancer  \"Optimizing Telemedicine Encounters for Oral a...\n",
       "6295  Thyroid_Cancer  \"Accumulating evidence has revealed the critic...\n",
       "\n",
       "[682 rows x 2 columns]"
      ]
     },
     "execution_count": 19,
     "metadata": {},
     "output_type": "execute_result"
    }
   ],
   "source": [
    "val_df "
   ]
  },
  {
   "cell_type": "code",
   "execution_count": 21,
   "id": "801e6904",
   "metadata": {},
   "outputs": [
    {
     "name": "stdout",
     "output_type": "stream",
     "text": [
      "22/22 [==============================] - 1s 15ms/step\n",
      "Predicted: Lung_Cancer, Actual: Lung_Cancer\n",
      "Predicted: Thyroid_Cancer, Actual: Thyroid_Cancer\n",
      "Predicted: Thyroid_Cancer, Actual: Thyroid_Cancer\n",
      "Predicted: Colon_Cancer, Actual: Colon_Cancer\n",
      "Predicted: Thyroid_Cancer, Actual: Thyroid_Cancer\n",
      "Predicted: Thyroid_Cancer, Actual: Thyroid_Cancer\n",
      "Predicted: Thyroid_Cancer, Actual: Thyroid_Cancer\n",
      "Predicted: Thyroid_Cancer, Actual: Thyroid_Cancer\n",
      "Predicted: Lung_Cancer, Actual: Lung_Cancer\n",
      "Predicted: Lung_Cancer, Actual: Lung_Cancer\n",
      "Accuracy: 0.9956011730205279\n"
     ]
    }
   ],
   "source": [
    "from tensorflow.keras.models import load_model\n",
    "\n",
    "# Loading the model\n",
    "model = load_model('Cancer_Text_Documents_Classification_ANN_your_model.h5')\n",
    "\n",
    "# Get the content column from the validation dataframe\n",
    "val_input = val_df['Text'].tolist()\n",
    "\n",
    "# Converting validation input to sequence\n",
    "val_seq = tokenizer.texts_to_sequences(val_input)\n",
    "\n",
    "# Padding the sequence\n",
    "val_padded = pad_sequences(val_seq, maxlen=max_length, padding='post', truncating='post')\n",
    "\n",
    "# Predicting the EMISSION_CLASS for validation input\n",
    "pred = model.predict(val_padded)\n",
    "\n",
    "# Decoding the predicted label\n",
    "pred_label = encoder.inverse_transform(np.argmax(pred, axis=-1))\n",
    "\n",
    "# Get the actual labels from the validation dataframe\n",
    "actual_label = val_df['Disease'].tolist()\n",
    "\n",
    "# Calculate accuracy\n",
    "accuracy = sum([1 if pred_label[i] == actual_label[i] else 0 for i in range(len(pred_label))]) / len(pred_label)\n",
    "\n",
    "# Print the predicted and actual labels for the first 10 samples\n",
    "for i in range(10):\n",
    "    print(f\"Predicted: {pred_label[i]}, Actual: {actual_label[i]}\")\n",
    "\n",
    "# Print the accuracy\n",
    "print(f\"Accuracy: {accuracy}\")"
   ]
  }
 ],
 "metadata": {
  "kernelspec": {
   "display_name": "Python 3",
   "language": "python",
   "name": "python3"
  },
  "language_info": {
   "codemirror_mode": {
    "name": "ipython",
    "version": 3
   },
   "file_extension": ".py",
   "mimetype": "text/x-python",
   "name": "python",
   "nbconvert_exporter": "python",
   "pygments_lexer": "ipython3",
   "version": "3.8.5"
  }
 },
 "nbformat": 4,
 "nbformat_minor": 5
}
